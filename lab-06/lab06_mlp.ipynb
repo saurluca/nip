{
 "cells": [
  {
   "cell_type": "markdown",
   "id": "d053a3ff-fc57-4b13-8d79-0ce63ac7fbce",
   "metadata": {},
   "source": [
    "## Lab 06: The Multi-Layer Perceptron (MLP) and Backpropagation.\n",
    "\n",
    "\n",
    "In this lab we will go from single-neurons to feedforward networks by implementing a simple Multi-Layer Perceptron (MLP) and the famous backpropagation algorithm to train an MLP from labeled data.\n",
    "\n",
    "The MLP extends Perceptrons to multiple layers with one caveat: We are going to switch to continous activation functions instead of the heavyside 0/1 activation first analyzed by Rosenblatt. In our case, we'll use the sigmoid activation function: \n",
    "\n",
    "$$\\sigma(x) = \\frac{1}{1+e^{x}}$$\n",
    "\n",
    "The architecture we will implement is simple, from inp layer to hidden layer to output layer:\n",
    "\n",
    "```3 inputs -> 2 hidden units (sigmoid-activation) -> 1 output unit (sigmoid-activation)```\n",
    "\n",
    "As we go from neurons to networks, all weight vectors of neurons in one layer are collected in a matrix. For example, the equation for the hidden layer is:\n",
    "\n",
    "$$ \\mathbf{h} = \\sigma( W^{(1)} \\mathbf{x} + \\mathbf{b^{(1)}} ) $$\n",
    "\n",
    "where $ W^{(1)} \\in \\mathbb{R}^{m \\times n}$, $ \\mathbf{x} \\in \\mathbb{R}^n$ and $\\mathbf{h},\\mathbf{b} \\in \\mathbb{R}^m $. The original weight vectors for each of the hidden layer perceptrons can be found in the weight matrix as row vectors:\n",
    "\n",
    "$$ W^{(1)} = \\begin{bmatrix}\n",
    "- & \\mathbf{w_1} & - \\\\\n",
    "- & \\mathbf{w_2} & - \\end{bmatrix} $$\n",
    "\n",
    "and $\\mathbf{w_1}, \\mathbf{w_2} \\in \\mathbb{R}^n$. Correspondingly, the output layer is:\n",
    "\n",
    "$$ \\mathbf{h} = \\sigma( W^{(2)} \\mathbf{h} + \\mathbf{b}^{(2)} ) $$\n",
    "\n",
    "Notice, that we are now explicityly tracking biases.\n",
    "\n",
    "To be able to train the network, we will need to be able to quantify its performance using a loss function and minimizing it. We will do so by using the (mean-)squared error (MSE):\n",
    "\n",
    "$$L(\\hat{y},y) = \\frac{1}{2} (\\hat{y} - y)^2$$\n",
    "$$L(\\hat{y},y) = \\frac{1}{2N} \\sum (\\hat{y_i} - y_i)^2$$\n",
    "\n",
    "where $\\hat{y}$ is the prediction, i.e. the output, of our network, and y is the target variable.\n",
    "\n",
    "\n",
    "\n",
    "## Learning objectives\n",
    "1. Practise the mechanics of the forward pass through linear layers + activation\n",
    "1. Translate analytical gradients into numpy code\n",
    "1. See how gradient descent gradually reduces the loss"
   ]
  },
  {
   "cell_type": "code",
   "execution_count": 1,
   "id": "822502c7-1b8b-48fe-842b-db5b809d3e0d",
   "metadata": {},
   "outputs": [],
   "source": [
    "import numpy as np\n",
    "import matplotlib.pyplot as plt\n",
    "import urllib.request\n",
    "\n",
    "np.random.seed(42)\n",
    "\n",
    "\n",
    "# the sigmoid functions and its derivative\n",
    "def sigmoid(z):\n",
    "    return 1 / (1 + np.exp(-z))\n",
    "\n",
    "\n",
    "def sigmoid_prime(z):\n",
    "    return sigmoid(z) * (1 - sigmoid(z))"
   ]
  },
  {
   "cell_type": "code",
   "execution_count": 2,
   "id": "528f14ac-d0f1-409b-a8a8-0f8a7c0e3ce7",
   "metadata": {},
   "outputs": [
    {
     "name": "stdout",
     "output_type": "stream",
     "text": [
      "(2, 3)\n",
      "(1, 2)\n"
     ]
    }
   ],
   "source": [
    "# setup dummy data\n",
    "n_samples = 200\n",
    "inputs = np.random.uniform(-1, 1, size=(n_samples, 3))\n",
    "\n",
    "true_w = np.array([1.5, -2.0, 0.5])\n",
    "true_b = -0.1\n",
    "targets = sigmoid(inputs @ true_w + true_b)\n",
    "\n",
    "# setup initial network parameters (all weights and biases)\n",
    "n_hidden_units = 2\n",
    "W1 = 0.1 * np.random.randn(n_hidden_units, 3)\n",
    "b1 = np.zeros(n_hidden_units)\n",
    "\n",
    "n_output_hidden = 1\n",
    "W2 = 0.1 * np.random.randn(n_output_hidden, 2)\n",
    "b2 = np.zeros(n_output_hidden)\n",
    "print(W1.shape)\n",
    "print(W2.shape)"
   ]
  },
  {
   "cell_type": "markdown",
   "id": "a0d3a121-ee8d-4926-a113-86045c49605d",
   "metadata": {},
   "source": [
    "### Task 1\n",
    "\n",
    "Your first task is to write a function that implements the forward pass of the network.\n",
    "Use a scatterplot to visualise the random predictions vs the true outputs and calculate the MSE across the dataset."
   ]
  },
  {
   "cell_type": "code",
   "execution_count": 3,
   "id": "38651d3d-42ab-4e6f-ac50-ca4c1492e31b",
   "metadata": {},
   "outputs": [
    {
     "data": {
      "text/plain": [
       "<matplotlib.collections.PathCollection at 0x7f15ef4a2810>"
      ]
     },
     "execution_count": 3,
     "metadata": {},
     "output_type": "execute_result"
    },
    {
     "data": {
      "image/png": "[encoded data removed]",
      "text/plain": [
       "<Figure size 640x480 with 1 Axes>"
      ]
     },
     "metadata": {},
     "output_type": "display_data"
    }
   ],
   "source": [
    "# returns the prediction of your network.\n",
    "def forward_pass(inp, W1, b1, W2, b2):\n",
    "    # print(\"inp.shape\", inp.shape, \"W1.shape\", W1.shape, \"W2.shape\", W2.shape)\n",
    "    # print(\"inp\", inp, \"\\nW1\", W1, \"\\nW2\", W2, \"\\n\\n\")\n",
    "    z1 = W1 @ inp + b1\n",
    "    a1 = sigmoid(z1)\n",
    "    z2 = W2 @ a1 + b2\n",
    "    a2 = sigmoid(z2)\n",
    "    return a2\n",
    "\n",
    "\n",
    "# returns the squared loss for one data point\n",
    "def mse_loss(prediction, target):\n",
    "    return np.mean((prediction - target) ** 2) / 2\n",
    "\n",
    "\n",
    "# write a loop over the data that collects all predictions in a list, sums the individual losses.\n",
    "# Then, take the mean of the loss and plot predictions against targets.\n",
    "\n",
    "predictions = []\n",
    "train_loss = 0.0\n",
    "for x, target in zip(inputs, targets):\n",
    "    pred = forward_pass(x, W1, b1, W2, b2)\n",
    "    loss = mse_loss(pred, target)\n",
    "    train_loss += loss\n",
    "    predictions.append(pred)\n",
    "    # print(f\"loss {loss}, target{ target} pred{pred}\")\n",
    "\n",
    "mean_loss = train_loss / len(targets)\n",
    "plt.scatter(predictions, targets)"
   ]
  },
  {
   "cell_type": "markdown",
   "id": "8c6305bb-e930-4a06-9fc6-455758d86846",
   "metadata": {},
   "source": [
    "### Task 2\n",
    "\n",
    "Now train the network! To do so:\n",
    "\n",
    "1. Calculate (analytically) the gradients of weights and biases in your network using the chain rule.\n",
    "2. Implement a forward and backward pass function that calculates the prediction, the loss, and all gradients for the weights and biases using your analytic solution for one data point.\n",
    "3. Train your network for multiple epochs (iterations of the dataset) by updating the parameters with step-size $\\eta$ after every single data-point. (This is the stochastic gradient descent algorithm as immplemented by backpropgataion, or \"batch-size = 1\")"
   ]
  },
  {
   "cell_type": "code",
   "execution_count": 4,
   "id": "fd0df69c-f0ff-4352-8dbd-0e5933728246",
   "metadata": {},
   "outputs": [],
   "source": [
    "# returns prediction, loss, dW1, db1, dW2, db2\n",
    "def forward_backward_pass(x, target, W1, b1, W2, b2, Verbose=False):\n",
    "    assert x.shape == (3,), f\"x.shape {x.shape}\"\n",
    "    assert W1.shape == (2, 3), f\"W1.shape {W1.shape}\"\n",
    "    assert b1.shape == (2,), f\"b1.shape {b1.shape}\"\n",
    "    assert W2.shape == (1, 2), f\"W2.shape {W2.shape}\"\n",
    "    assert b2.shape == (1,), f\"b2.shape {b2.shape}\"\n",
    "\n",
    "    # Forward pass\n",
    "    # print(f\"x.shape {x.shape}\")\n",
    "    z1 = W1 @ x + b1  # Hidden layer linear combination\n",
    "    # print(f\"z1.shape {z1.shape}\")\n",
    "    a1 = sigmoid(z1)  # Hidden layer activation\n",
    "    # print(f\"a1.shape {a1.shape}\")\n",
    "    z2 = W2 @ a1 + b2  # Output layer linear combination\n",
    "    # print(f\"z2.shape {z2.shape}\")\n",
    "    # assert z2.shape == (1,), f\"z2.shape {z2.shape}\"\n",
    "    pred = sigmoid(z2)  # Output layer activation\n",
    "    loss = mse_loss(pred, target)  # Calculate loss\n",
    "\n",
    "    # assert pred.shape == target.shape, f\"pred.shape {pred.shape}, target.shape {target.shape}\"\n",
    "\n",
    "    # Backward pass - compute gradients\n",
    "    # Start from output layer\n",
    "    grad_output = pred - target  # MSE gradient # shape: (1,)\n",
    "    grad_output = grad_output * sigmoid_prime(\n",
    "        z2\n",
    "    )  # Apply sigmoid derivative # shape: (1,)\n",
    "\n",
    "    # Output layer gradients\n",
    "    dW2 = np.outer(grad_output, a1.T)  # Gradient for W2 (outer product) # shape (1, 2)\n",
    "    db2 = grad_output  # Gradient for b2\n",
    "\n",
    "    # Hidden layer gradients\n",
    "    grad_hidden = W2.T @ grad_output * sigmoid_prime(z1)\n",
    "\n",
    "    # Hidden layer weight gradients\n",
    "    dW1 = np.outer(grad_hidden, x.T)  # Gradient for W1 (outer product) # shape (2,3)\n",
    "    db1 = grad_hidden  # Gradient for b1\n",
    "\n",
    "    return pred, loss, dW1, db1, dW2, db2"
   ]
  },
  {
   "cell_type": "code",
   "execution_count": 5,
   "id": "3e479e0a-bf6d-4339-9d98-caa7a0738889",
   "metadata": {},
   "outputs": [
    {
     "data": {
      "text/plain": [
       "[<matplotlib.lines.Line2D at 0x7f15ef561310>]"
      ]
     },
     "execution_count": 5,
     "metadata": {},
     "output_type": "execute_result"
    },
    {
     "data": {
      "image/png": "[encoded data removed]",
      "text/plain": [
       "<Figure size 640x480 with 1 Axes>"
      ]
     },
     "metadata": {},
     "output_type": "display_data"
    }
   ],
   "source": [
    "n_hidden_units = 2\n",
    "W1 = 0.1 * np.random.randn(n_hidden_units, 3)\n",
    "b1 = np.zeros(n_hidden_units)\n",
    "\n",
    "n_output_hidden = 1\n",
    "W2 = 0.1 * np.random.randn(n_output_hidden, 2)\n",
    "b2 = np.zeros(n_output_hidden)\n",
    "# print(\n",
    "#     f\"W1.shape {W1.shape}, b1.shape {b1.shape}, W2.shape {W2.shape}, b2.shape {b2.shape}\"\n",
    "# )\n",
    "\n",
    "losses = []\n",
    "lr = 0.5\n",
    "epochs = 20\n",
    "for epoch in range(epochs):\n",
    "    train_loss = 0.0\n",
    "    for x, target in zip(inputs, targets):\n",
    "        prediction, loss, dW1, db1, dW2, db2 = forward_backward_pass(\n",
    "            x, target, W1, b1, W2, b2\n",
    "        )\n",
    "        train_loss += loss\n",
    "        # print(f\"w1 {W1.shape}, dw1 {dW1.shape}, w2 {W2.shape}, dw2 {dW2.shape}\")\n",
    "        W1 = W1 - lr * dW1\n",
    "        W2 = W2 - lr * dW2\n",
    "        b1 = b1 - lr * db1\n",
    "        b2 = b2 - lr * db2\n",
    "\n",
    "    losses.append(train_loss / len(targets))\n",
    "    # print(f\"train loss {train_loss:.2} in epoch {epoch}, \")\n",
    "\n",
    "# plot the loss over time (as measured in epochs)\n",
    "plt.plot(losses)"
   ]
  },
  {
   "cell_type": "markdown",
   "id": "8110554d-e725-42dd-8961-bec4cccfc63a",
   "metadata": {},
   "source": [
    "### Task 3 (optional)\n",
    "\n",
    "Try it out on \"real\" data: Look up the famous IRIS dataset for more details, download as per the code.\n",
    "\n",
    "As per good machine learning practice, split the data into training and test and track both training and test error in your model.\n"
   ]
  },
  {
   "cell_type": "code",
   "execution_count": 6,
   "id": "11c7bd32-7b86-4204-aaf8-ab4f362c5900",
   "metadata": {},
   "outputs": [
    {
     "data": {
      "text/plain": [
       "np.float64(2.3)"
      ]
     },
     "execution_count": 6,
     "metadata": {},
     "output_type": "execute_result"
    }
   ],
   "source": [
    "url = \"https://archive.ics.uci.edu/ml/machine-learning-databases/iris/iris.data\"\n",
    "raw = urllib.request.urlopen(url).read().decode(\"utf-8\").strip().split(\"\\n\")\n",
    "\n",
    "rows = [r.split(\",\") for r in raw if r]  # skip empty lines\n",
    "data = np.array(rows)\n",
    "features = data[:, :4].astype(float)\n",
    "\n",
    "inputs = features[:, :3]  # sepal length, width, petal length\n",
    "targets = features[:, 3]  # petal width\n",
    "\n",
    "# reset weights\n",
    "n_hidden_units = 2\n",
    "W1 = 0.1 * np.random.randn(n_hidden_units, 3)\n",
    "b1 = np.zeros(n_hidden_units)\n",
    "\n",
    "n_output_hidden = 1\n",
    "W2 = 0.1 * np.random.randn(n_output_hidden, 2)\n",
    "b2 = np.zeros(n_output_hidden)\n",
    "\n",
    "# split train test data\n",
    "train_ratio = 0.8\n",
    "n_train_rows = int(len(rows) * train_ratio)\n",
    "\n",
    "X_train = inputs[:n_train_rows]\n",
    "X_test = inputs[n_train_rows:]\n",
    "y_train = targets[:n_train_rows]\n",
    "y_test = targets[n_train_rows:]\n",
    "\n",
    "y_test[0]\n"
   ]
  },
  {
   "cell_type": "code",
   "execution_count": 7,
   "id": "1cbe3416-f42d-40ad-8cac-e39fe1842d50",
   "metadata": {},
   "outputs": [],
   "source": [
    "def train(X_train, y_train, W1, b1, W2, b2, lr=0.5, epochs=20):\n",
    "    losses = []\n",
    "\n",
    "    for epoch in range(epochs):\n",
    "        train_loss = 0.0\n",
    "        for x, y in zip(X_train, y_train):\n",
    "            # print(f\"shape {x}, y {y}\")\n",
    "            prediction, loss, dW1, db1, dW2, db2 = forward_backward_pass(\n",
    "                x, y, W1, b1, W2, b2\n",
    "            )\n",
    "            # print(f\"prediction shape {prediction.shape}, y shape {y.shape}\")\n",
    "            train_loss += loss\n",
    "            # print(f\"w1 {W1.shape}, dw1 {dW1.shape}, w2 {W2.shape}, dw2 {dW2.shape}\")\n",
    "            W1 = W1 - lr * dW1\n",
    "            W2 = W2 - lr * dW2\n",
    "            b1 = b1 - lr * db1\n",
    "            b2 = b2 - lr * db2\n",
    "\n",
    "        losses.append(train_loss / len(targets))\n",
    "        # print(f\"train loss {train_loss:.2} in epoch {epoch}, \")\n",
    "\n",
    "    return losses, W1, b1, W2, b2\n",
    "\n",
    "\n",
    "def evaluate(X_test, y_test, W1, b1, W2, b2):\n",
    "    test_loss = 0.0\n",
    "    predictions = []\n",
    "    for x, y in zip(X_test, y_test):\n",
    "        prediction, loss, _, _, _, _ = forward_backward_pass(x, y, W1, b1, W2, b2)\n",
    "        test_loss += loss\n",
    "        predictions.append(prediction)\n",
    "\n",
    "    test_loss = test_loss / len(y_test)\n",
    "    return test_loss, predictions"
   ]
  },
  {
   "cell_type": "code",
   "execution_count": 8,
   "id": "15f0b56b",
   "metadata": {},
   "outputs": [
    {
     "data": {
      "image/png": "[encoded data removed]",
      "text/plain": [
       "<Figure size 640x480 with 1 Axes>"
      ]
     },
     "metadata": {},
     "output_type": "display_data"
    },
    {
     "data": {
      "image/png": "[encoded data removed]",
      "text/plain": [
       "<Figure size 640x480 with 1 Axes>"
      ]
     },
     "metadata": {},
     "output_type": "display_data"
    },
    {
     "name": "stdout",
     "output_type": "stream",
     "text": [
      "train loss 0.10445201654184759\n",
      "test loss 0.5528716387078876\n",
      "[0.99819546]\n",
      "2.3\n"
     ]
    }
   ],
   "source": [
    "train_losses, W1, b1, W2, b2 = train(\n",
    "    X_train, y_train, W1, b1, W2, b2, lr=0.5, epochs=20\n",
    ")\n",
    "\n",
    "test_loss, predictions = evaluate(X_test, y_test, W1, b1, W2, b2)\n",
    "\n",
    "plt.plot(train_losses)\n",
    "plt.show()\n",
    "\n",
    "plt.scatter(predictions, y_test)\n",
    "plt.show()\n",
    "\n",
    "\n",
    "print(f\"train loss {train_losses[-1]}\")\n",
    "print(f\"test loss {test_loss}\")\n",
    "\n",
    "print(predictions[0])\n",
    "print(y_test[0])"
   ]
  },
  {
   "cell_type": "markdown",
   "id": "47a5e4c9",
   "metadata": {},
   "source": [
    "\n",
    "Loss\n",
    "0.5 * (pred - target) ** 2\n",
    "\n",
    "Loss Ableitung\n",
    "(predictation - target) * 1\n",
    "\n",
    "Sigmoid ableitung\n",
    "(sigmoid_prime(a2)   - target)\n",
    "\n",
    "\n",
    "dW2 = (sigmoid_prime(W2 @ a1 + b) * a1 - target) \n",
    "\n",
    "\n"
   ]
  },
  {
   "cell_type": "code",
   "execution_count": 9,
   "id": "71fd3a1a",
   "metadata": {},
   "outputs": [
    {
     "name": "stdout",
     "output_type": "stream",
     "text": [
      "M1 [[1 2 3]\n",
      " [4 5 6]]\n",
      "M2 [1 2]\n",
      "M1.shape (2, 3), M2.shape (2,)\n"
     ]
    },
    {
     "ename": "ValueError",
     "evalue": "matmul: Input operand 1 has a mismatch in its core dimension 0, with gufunc signature (n?,k),(k,m?)->(n?,m?) (size 2 is different from 3)",
     "output_type": "error",
     "traceback": [
      "\u001b[31m---------------------------------------------------------------------------\u001b[39m",
      "\u001b[31mValueError\u001b[39m                                Traceback (most recent call last)",
      "\u001b[36mCell\u001b[39m\u001b[36m \u001b[39m\u001b[32mIn[9]\u001b[39m\u001b[32m, line 11\u001b[39m\n\u001b[32m      8\u001b[39m \u001b[38;5;28mprint\u001b[39m(\u001b[33mf\u001b[39m\u001b[33m\"\u001b[39m\u001b[33mM2 \u001b[39m\u001b[38;5;132;01m{\u001b[39;00mM2\u001b[38;5;132;01m}\u001b[39;00m\u001b[33m\"\u001b[39m)\n\u001b[32m      9\u001b[39m \u001b[38;5;28mprint\u001b[39m(\u001b[33mf\u001b[39m\u001b[33m\"\u001b[39m\u001b[33mM1.shape \u001b[39m\u001b[38;5;132;01m{\u001b[39;00mM1.shape\u001b[38;5;132;01m}\u001b[39;00m\u001b[33m, M2.shape \u001b[39m\u001b[38;5;132;01m{\u001b[39;00mM2.shape\u001b[38;5;132;01m}\u001b[39;00m\u001b[33m\"\u001b[39m)\n\u001b[32m---> \u001b[39m\u001b[32m11\u001b[39m \u001b[38;5;28mprint\u001b[39m(\u001b[33mf\u001b[39m\u001b[33m\"\u001b[39m\u001b[33mM1 @ M2 \u001b[39m\u001b[38;5;132;01m{\u001b[39;00m\u001b[43mM1\u001b[49m\u001b[38;5;250;43m \u001b[39;49m\u001b[43m@\u001b[49m\u001b[38;5;250;43m \u001b[39;49m\u001b[43mM2\u001b[49m\u001b[38;5;132;01m}\u001b[39;00m\u001b[33m\"\u001b[39m)\n\u001b[32m     12\u001b[39m \u001b[38;5;28mprint\u001b[39m(\u001b[33mf\u001b[39m\u001b[33m\"\u001b[39m\u001b[33mM2.T @ M1.T \u001b[39m\u001b[38;5;132;01m{\u001b[39;00mM2.T\u001b[38;5;250m \u001b[39m@\u001b[38;5;250m \u001b[39mM1.T\u001b[38;5;132;01m}\u001b[39;00m\u001b[33m\"\u001b[39m)\n",
      "\u001b[31mValueError\u001b[39m: matmul: Input operand 1 has a mismatch in its core dimension 0, with gufunc signature (n?,k),(k,m?)->(n?,m?) (size 2 is different from 3)"
     ]
    }
   ],
   "source": [
    "# Product equivalent\n",
    "# M1 @ M2 = M2.T @ M1.T\n",
    "\n",
    "# shape M1 (2, 1), M2 (2, 3)\n",
    "M1 = np.array([[1, 2, 3], [4, 5, 6]])\n",
    "M2 = np.array([1, 2])\n",
    "print(f\"M1 {M1}\")\n",
    "print(f\"M2 {M2}\")\n",
    "print(f\"M1.shape {M1.shape}, M2.shape {M2.shape}\")\n",
    "\n",
    "print(f\"M1 @ M2 {M1 @ M2}\")\n",
    "print(f\"M2.T @ M1.T {M2.T @ M1.T}\")\n"
   ]
  },
  {
   "cell_type": "code",
   "execution_count": null,
   "id": "287f8b6d",
   "metadata": {},
   "outputs": [],
   "source": [
    "# outer product example with two vectors\n",
    "# Outer product: np.outer(a, b) is equivalent to a[:, None] @ b[None, :]\n",
    "a = np.array([1, 2, 3])\n",
    "b = np.array([4, 5])\n",
    "print(f\"a {a}\")\n",
    "print(f\"b {b}\")\n",
    "print(f\"a.shape {a.shape}, b.shape {b.shape}\")\n",
    "print()\n",
    "\n",
    "# Outer product using np.outer\n",
    "outer_np = np.outer(a, b)\n",
    "print(f\"np.outer(a, b):\\n{outer_np}\")\n",
    "print()\n",
    "\n",
    "# Equivalent using @ and transpose/reshape\n",
    "# Method 1: using reshape to add dimensions\n",
    "outer_manual1 = a.reshape(-1, 1) @ b.reshape(1, -1)\n",
    "print(f\"a.reshape(-1, 1) @ b.reshape(1, -1):\\n{outer_manual1}\")\n",
    "print()\n",
    "\n",
    "# Method 2: using None indexing (equivalent to reshape)\n",
    "outer_manual2 = a[:, None] @ b[None, :]\n",
    "print(f\"shape a[:, None] {a[:, None].shape}, shape b[None, :] {b[None, :].shape}\")\n",
    "print(f\"a[:, None] @ b[None, :]:\\n{outer_manual2}\")\n"
   ]
  },
  {
   "cell_type": "code",
   "execution_count": null,
   "id": "51069642",
   "metadata": {},
   "outputs": [],
   "source": []
  }
 ],
 "metadata": {
  "kernelspec": {
   "display_name": ".venv",
   "language": "python",
   "name": "python3"
  },
  "language_info": {
   "codemirror_mode": {
    "name": "ipython",
    "version": 3
   },
   "file_extension": ".py",
   "mimetype": "text/x-python",
   "name": "python",
   "nbconvert_exporter": "python",
   "pygments_lexer": "ipython3",
   "version": "3.12.9"
  }
 },
 "nbformat": 4,
 "nbformat_minor": 5
}
