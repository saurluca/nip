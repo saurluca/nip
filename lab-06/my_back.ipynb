{
 "cells": [
  {
   "cell_type": "markdown",
   "id": "d053a3ff-fc57-4b13-8d79-0ce63ac7fbce",
   "metadata": {},
   "source": [
    "## Lab 06: The Multi-Layer Perceptron (MLP) and Backpropagation.\n",
    "\n",
    "\n",
    "In this lab we will go from single-neurons to feedforward networks by implementing a simple Multi-Layer Perceptron (MLP) and the famous backpropagation algorithm to train an MLP from labeled data.\n",
    "\n",
    "The MLP extends Perceptrons to multiple layers with one caveat: We are going to switch to continous activation functions instead of the heavyside 0/1 activation first analyzed by Rosenblatt. In our case, we'll use the sigmoid activation function: \n",
    "\n",
    "$$\\sigma(x) = \\frac{1}{1+e^{x}}$$\n",
    "\n",
    "The architecture we will implement is simple, from inp layer to hidden layer to output layer:\n",
    "\n",
    "```3 inputs -> 2 hidden units (sigmoid-activation) -> 1 output unit (sigmoid-activation)```\n",
    "\n",
    "As we go from neurons to networks, all weight vectors of neurons in one layer are collected in a matrix. For example, the equation for the hidden layer is:\n",
    "\n",
    "$$ \\mathbf{h} = \\sigma( W^{(1)} \\mathbf{x} + \\mathbf{b^{(1)}} ) $$\n",
    "\n",
    "where $ W^{(1)} \\in \\mathbb{R}^{m \\times n}$, $ \\mathbf{x} \\in \\mathbb{R}^n$ and $\\mathbf{h},\\mathbf{b} \\in \\mathbb{R}^m $. The original weight vectors for each of the hidden layer perceptrons can be found in the weight matrix as row vectors:\n",
    "\n",
    "$$ W^{(1)} = \\begin{bmatrix}\n",
    "- & \\mathbf{w_1} & - \\\\\n",
    "- & \\mathbf{w_2} & - \\end{bmatrix} $$\n",
    "\n",
    "and $\\mathbf{w_1}, \\mathbf{w_2} \\in \\mathbb{R}^n$. Correspondingly, the output layer is:\n",
    "\n",
    "$$ \\mathbf{h} = \\sigma( W^{(2)} \\mathbf{h} + \\mathbf{b}^{(2)} ) $$\n",
    "\n",
    "Notice, that we are now explicityly tracking biases.\n",
    "\n",
    "To be able to train the network, we will need to be able to quantify its performance using a loss function and minimizing it. We will do so by using the (mean-)squared error (MSE):\n",
    "\n",
    "$$L(\\hat{y},y) = \\frac{1}{2} (\\hat{y} - y)^2$$\n",
    "$$L(\\hat{y},y) = \\frac{1}{2N} \\sum (\\hat{y_i} - y_i)^2$$\n",
    "\n",
    "where $\\hat{y}$ is the prediction, i.e. the output, of our network, and y is the target variable.\n",
    "\n",
    "\n",
    "\n",
    "## Learning objectives\n",
    "1. Practise the mechanics of the forward pass through linear layers + activation\n",
    "1. Translate analytical gradients into numpy code\n",
    "1. See how gradient descent gradually reduces the loss"
   ]
  },
  {
   "cell_type": "code",
   "execution_count": 1,
   "id": "822502c7-1b8b-48fe-842b-db5b809d3e0d",
   "metadata": {},
   "outputs": [],
   "source": [
    "import numpy as np\n",
    "import matplotlib.pyplot as plt\n",
    "import urllib.request\n",
    "\n",
    "np.random.seed(42)\n",
    "\n",
    "\n",
    "# the sigmoid functions and its derivative\n",
    "def sigmoid(z):\n",
    "    return 1 / (1 + np.exp(-z))\n",
    "\n",
    "\n",
    "def sigmoid_prime(z):\n",
    "    return sigmoid(z) * (1 - sigmoid(z))"
   ]
  },
  {
   "cell_type": "code",
   "execution_count": 2,
   "id": "528f14ac-d0f1-409b-a8a8-0f8a7c0e3ce7",
   "metadata": {},
   "outputs": [
    {
     "name": "stdout",
     "output_type": "stream",
     "text": [
      "(2, 3)\n",
      "(1, 2)\n"
     ]
    }
   ],
   "source": [
    "# setup dummy data\n",
    "n_samples = 200\n",
    "inputs = np.random.uniform(-1, 1, size=(n_samples, 3))\n",
    "\n",
    "true_w = np.array([1.5, -2.0, 0.5])\n",
    "true_b = -0.1\n",
    "targets = sigmoid(inputs @ true_w + true_b)\n",
    "\n",
    "# setup initial network parameters (all weights and biases)\n",
    "n_hidden_units = 2\n",
    "W1 = 0.1 * np.random.randn(n_hidden_units, 3)\n",
    "b1 = np.zeros(n_hidden_units)\n",
    "\n",
    "n_output_hidden = 1\n",
    "W2 = 0.1 * np.random.randn(n_output_hidden, 2)\n",
    "b2 = np.zeros(n_output_hidden)\n",
    "print(W1.shape)\n",
    "print(W2.shape)\n",
    "\n",
    "class MLP:\n",
    "    def __init__(self, dimensions):\n",
    "        self.activation_fn = sigmoid\n",
    "        \n",
    "        self.layers = []\n",
    "        \n",
    "        for in_dimension, i in enumerate(dimensions):\n",
    "            out_dimension = dimensions[i+1]\n",
    "            weight = 0.1 * np.random.randn(in_dimension, 2)\n",
    "            bias = np.zeros(in_dimension)\n",
    "            self.layers.append((weight, bias))\n",
    "            \n",
    "            \n",
    "\n",
    "    def forward(self, x):\n",
    "        z1 = W1 @ x + b1\n",
    "        a1 = sigmoid(z1)\n",
    "        z2 = W2 @ a1 + b2\n",
    "        a2 = sigmoid(z2)\n",
    "        return a2"
   ]
  },
  {
   "cell_type": "markdown",
   "id": "a0d3a121-ee8d-4926-a113-86045c49605d",
   "metadata": {},
   "source": [
    "### Task 1\n",
    "\n",
    "Your first task is to write a function that implements the forward pass of the network.\n",
    "Use a scatterplot to visualise the random predictions vs the true outputs and calculate the MSE across the dataset."
   ]
  },
  {
   "cell_type": "code",
   "execution_count": 3,
   "id": "38651d3d-42ab-4e6f-ac50-ca4c1492e31b",
   "metadata": {},
   "outputs": [
    {
     "data": {
      "text/plain": [
       "<matplotlib.collections.PathCollection at 0x7fb1cce0bb30>"
      ]
     },
     "execution_count": 3,
     "metadata": {},
     "output_type": "execute_result"
    },
    {
     "data": {
      "image/png": "[encoded data removed]",
      "text/plain": [
       "<Figure size 640x480 with 1 Axes>"
      ]
     },
     "metadata": {},
     "output_type": "display_data"
    }
   ],
   "source": [
    "# returns the prediction of your network.\n",
    "def forward_pass(inp, W1, b1, W2, b2):\n",
    "    # print(\"inp.shape\", inp.shape, \"W1.shape\", W1.shape, \"W2.shape\", W2.shape)\n",
    "    # print(\"inp\", inp, \"\\nW1\", W1, \"\\nW2\", W2, \"\\n\\n\")\n",
    "    z1 = W1 @ inp + b1\n",
    "    a1 = sigmoid(z1)\n",
    "    z2 = W2 @ a1 + b2\n",
    "    a2 = sigmoid(z2)\n",
    "    return a2\n",
    "\n",
    "\n",
    "# returns the squared loss for one data point\n",
    "def mse_loss(prediction, target):\n",
    "    return np.mean((prediction - target) ** 2) / 2\n",
    "\n",
    "\n",
    "# write a loop over the data that collects all predictions in a list, sums the individual losses.\n",
    "# Then, take the mean of the loss and plot predictions against targets.\n",
    "\n",
    "predictions = []\n",
    "train_loss = 0.0\n",
    "for x, target in zip(inputs, targets):\n",
    "    pred = forward_pass(x, W1, b1, W2, b2)\n",
    "    loss = mse_loss(pred, target)\n",
    "    train_loss += loss\n",
    "    predictions.append(pred)\n",
    "    # print(f\"loss {loss}, target{ target} pred{pred}\")\n",
    "\n",
    "mean_loss = train_loss / len(targets)\n",
    "plt.scatter(predictions, targets)"
   ]
  },
  {
   "cell_type": "markdown",
   "id": "8c6305bb-e930-4a06-9fc6-455758d86846",
   "metadata": {},
   "source": [
    "### Task 2\n",
    "\n",
    "Now train the network! To do so:\n",
    "\n",
    "1. Calculate (analytically) the gradients of weights and biases in your network using the chain rule.\n",
    "2. Implement a forward and backward pass function that calculates the prediction, the loss, and all gradients for the weights and biases using your analytic solution for one data point.\n",
    "3. Train your network for multiple epochs (iterations of the dataset) by updating the parameters with step-size $\\eta$ after every single data-point. (This is the stochastic gradient descent algorithm as immplemented by backpropgataion, or \"batch-size = 1\")"
   ]
  },
  {
   "cell_type": "code",
   "execution_count": 4,
   "id": "fd0df69c-f0ff-4352-8dbd-0e5933728246",
   "metadata": {},
   "outputs": [],
   "source": [
    "# returns prediction, loss, dW1, db1, dW2, db2\n",
    "def forward_backward_pass(x, target, W1, b1, W2, b2, Verbose=False):\n",
    "    assert x.shape == (3,), f\"x.shape {x.shape}\"\n",
    "    assert W1.shape == (2, 3), f\"W1.shape {W1.shape}\"\n",
    "    assert b1.shape == (2,), f\"b1.shape {b1.shape}\"\n",
    "    assert W2.shape == (1, 2), f\"W2.shape {W2.shape}\"\n",
    "    assert b2.shape == (1,), f\"b2.shape {b2.shape}\"\n",
    "\n",
    "    # Forward pass\n",
    "    # print(f\"x.shape {x.shape}\")\n",
    "    z1 = W1 @ x + b1  # Hidden layer linear combination\n",
    "    # print(f\"z1.shape {z1.shape}\")\n",
    "    a1 = sigmoid(z1)  # Hidden layer activation\n",
    "    # print(f\"a1.shape {a1.shape}\")\n",
    "    z2 = W2 @ a1 + b2  # Output layer linear combination\n",
    "    # print(f\"z2.shape {z2.shape}\")\n",
    "    # assert z2.shape == (1,), f\"z2.shape {z2.shape}\"\n",
    "    pred = sigmoid(z2)  # Output layer activation\n",
    "    loss = mse_loss(pred, target)  # Calculate loss\n",
    "\n",
    "    # assert pred.shape == target.shape, f\"pred.shape {pred.shape}, target.shape {target.shape}\"\n",
    "\n",
    "    # Backward pass - compute gradients\n",
    "    # Start from output layer\n",
    "    grad_output = pred - target  # MSE gradient # shape: (1,)\n",
    "    grad_output = grad_output * sigmoid_prime(\n",
    "        z2\n",
    "    )  # Apply sigmoid derivative # shape: (1,)\n",
    "\n",
    "    # Output layer gradients\n",
    "    dW2 = np.outer(grad_output, a1.T)  # Gradient for W2 (outer product) # shape (1, 2)\n",
    "    db2 = grad_output  # Gradient for b2\n",
    "\n",
    "    # Hidden layer gradients\n",
    "    grad_hidden = W2.T @ grad_output * sigmoid_prime(z1)\n",
    "\n",
    "    # Hidden layer weight gradients\n",
    "    dW1 = np.outer(grad_hidden, x.T)  # Gradient for W1 (outer product) # shape (2,3)\n",
    "    db1 = grad_hidden  # Gradient for b1\n",
    "\n",
    "    return pred, loss, dW1, db1, dW2, db2"
   ]
  },
  {
   "cell_type": "code",
   "execution_count": 5,
   "id": "3e479e0a-bf6d-4339-9d98-caa7a0738889",
   "metadata": {},
   "outputs": [
    {
     "data": {
      "text/plain": [
       "[<matplotlib.lines.Line2D at 0x7fb1cca3ce00>]"
      ]
     },
     "execution_count": 5,
     "metadata": {},
     "output_type": "execute_result"
    },
    {
     "data": {
      "image/png": "[encoded data removed]",
      "text/plain": [
       "<Figure size 640x480 with 1 Axes>"
      ]
     },
     "metadata": {},
     "output_type": "display_data"
    }
   ],
   "source": [
    "n_hidden_units = 2\n",
    "W1 = 0.1 * np.random.randn(n_hidden_units, 3)\n",
    "b1 = np.zeros(n_hidden_units)\n",
    "\n",
    "n_output_hidden = 1\n",
    "W2 = 0.1 * np.random.randn(n_output_hidden, 2)\n",
    "b2 = np.zeros(n_output_hidden)\n",
    "# print(\n",
    "#     f\"W1.shape {W1.shape}, b1.shape {b1.shape}, W2.shape {W2.shape}, b2.shape {b2.shape}\"\n",
    "# )\n",
    "\n",
    "losses = []\n",
    "lr = 0.5\n",
    "epochs = 20\n",
    "for epoch in range(epochs):\n",
    "    train_loss = 0.0\n",
    "    for x, target in zip(inputs, targets):\n",
    "        prediction, loss, dW1, db1, dW2, db2 = forward_backward_pass(\n",
    "            x, target, W1, b1, W2, b2\n",
    "        )\n",
    "        train_loss += loss\n",
    "        # print(f\"w1 {W1.shape}, dw1 {dW1.shape}, w2 {W2.shape}, dw2 {dW2.shape}\")\n",
    "        W1 = W1 - lr * dW1\n",
    "        W2 = W2 - lr * dW2\n",
    "        b1 = b1 - lr * db1\n",
    "        b2 = b2 - lr * db2\n",
    "\n",
    "    losses.append(train_loss / len(targets))\n",
    "    # print(f\"train loss {train_loss:.2} in epoch {epoch}, \")\n",
    "\n",
    "# plot the loss over time (as measured in epochs)\n",
    "plt.plot(losses)"
   ]
  }
 ],
 "metadata": {
  "kernelspec": {
   "display_name": ".venv",
   "language": "python",
   "name": "python3"
  },
  "language_info": {
   "codemirror_mode": {
    "name": "ipython",
    "version": 3
   },
   "file_extension": ".py",
   "mimetype": "text/x-python",
   "name": "python",
   "nbconvert_exporter": "python",
   "pygments_lexer": "ipython3",
   "version": "3.12.9"
  }
 },
 "nbformat": 4,
 "nbformat_minor": 5
}
