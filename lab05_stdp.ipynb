{
 "cells": [
  {
   "cell_type": "markdown",
   "id": "383086d5",
   "metadata": {},
   "source": [
    "# Lab05: Spike‑Timing‑Dependent Plasticity (STDP)\n",
    "Welcome to the hands‑on lab for exploring STDP!  \n",
    "In this notebook you will:\n",
    "1. Implement the Song–Abbott–Miller leaky integrate‑and‑fire (LIF) neuron model with pair‑based STDP.  \n",
    "2. Generate several kinds of presynaptic spike trains.  \n",
    "3. Run three guided experiments and interpret the results."
   ]
  },
  {
   "cell_type": "markdown",
   "id": "a6da10bc",
   "metadata": {},
   "source": [
    "## Neuron and synapse model\n",
    "We follow the parameters reported by **Song et al. 2000** for their current‑based LIF neuron [τ_m = 20 ms, V_rest = −70 mV, V_th = −54 mV, V_reset = −60 mV, τ_ex = τ_in = 5 ms, g_max = 0.015 (dimensionless)].  Weights are bounded in **[0, g_max]** and updated with the classical pair‑based STDP rule:\n",
    "$$\\Delta g = \\begin{cases}\n",
    "A_+\\,e^{\\Delta t/\\tau_+} & \\Delta t<0\\\\[2pt]\n",
    "-A_-\\,e^{-\\Delta t/\\tau_-} & \\Delta t\\ge0\\end{cases}$$\n",
    "with $\\tau_+=\\tau_-\\;{=}$ 20 ms, $A_+=0.005\\,g_{\\max}$ and $A_-/A_+=1.05$."
   ]
  },
  {
   "cell_type": "markdown",
   "id": "3bfe9376",
   "metadata": {},
   "source": [
    "## Learning goals\n",
    "After completing the notebook you should be able to:\n",
    "* Explain how the relative timing of pre‑ and postsynaptic spikes drives synaptic potentiation or depression.\n",
    "* Show that STDP favors inputs with shorter latencies.\n",
    "* Describe how STDP can stabilize a neuron’s output rate across a wide range of input rates.\n",
    "* Discuss whether STDP can learn rate codes, too."
   ]
  },
  {
   "cell_type": "code",
   "execution_count": null,
   "id": "fb540f31",
   "metadata": {},
   "outputs": [],
   "source": [
    "import numpy as np\n",
    "import matplotlib.pyplot as plt\n",
    "%matplotlib inline\n",
    "\n",
    "# For reproducibility\n",
    "rng = np.random.default_rng(seed=42)\n",
    "\n",
    "# plot your spike data\n",
    "def plot_spikes(spike_trains, T):\n",
    "    \"\"\"\n",
    "    Quick raster plot.\n",
    "\n",
    "    Parameters\n",
    "    ----------\n",
    "    spike_trains : array-like of 1-D numpy arrays\n",
    "        spike_trains[i] contains the spike times (s) for neuron i.\n",
    "    T : float\n",
    "        Maximum time for x-axis (s).\n",
    "    \"\"\"\n",
    "    plt.eventplot(spike_trains, linelengths=0.3, color='k')\n",
    "    plt.xlim(0, T)\n",
    "    plt.ylim(-0.5, len(spike_trains) - 0.5)\n",
    "    plt.xlabel('time (s)')\n",
    "    plt.ylabel('neuron index')\n",
    "    plt.show()"
   ]
  },
  {
   "cell_type": "markdown",
   "id": "fb6a781e-aaa8-40aa-94b7-64495e39d5df",
   "metadata": {},
   "source": [
    "## Task 1:\n",
    "\n",
    "Implement the neuron model response and STDP update for the simple latency spike input below. Cycle through the input multiple times to see how STDP adapts the weights.\n",
    "\n",
    "You can safely ignore inhibitory components of the model here."
   ]
  },
  {
   "cell_type": "code",
   "execution_count": null,
   "id": "b8e46ecc-1424-4357-a420-e11e848023ea",
   "metadata": {},
   "outputs": [],
   "source": [
    "#  Simulation & model parameters \n",
    "dt       = 1e-3       # simulation time step [s]\n",
    "tau_m    = 20e-3      # membrane time constant [s]\n",
    "v_rest   = -0.070     # resting potential [V]\n",
    "v_reset  = -0.060     # reset potential [V]\n",
    "v_th     = -0.054     # spike threshold [V]\n",
    "tau_ex   = 5e-3       # excitatory synaptic decay [s]\n",
    "tau_in   = 5e-3       # inhibitory synaptic decay [s]\n",
    "\n",
    "g_max    = 0.5     # max excitatory weight (dimensionless w.r.t. leak conductance)\n",
    "g_in     = 0.05       # fixed inhibitory weight per spike\n",
    "\n",
    "# STDP constants\n",
    "tau_plus  = 20e-3\n",
    "tau_minus = 20e-3\n",
    "A_plus    = 0.005     # fraction of g_max added per causal pair\n",
    "A_minus   = 1.05*A_plus\n",
    "\n",
    "# expeirment\n",
    "latency_spikes = np.array([[0.005],\n",
    "                           [0.010], \n",
    "                           [0.015], \n",
    "                           [0.020], \n",
    "                           [0.025]])               \n",
    "T            = 0.050                               # 50 ms cycle\n",
    "cycles       = 10\n",
    "N_exc        = 5\n",
    "\n",
    "def run_simple(exc_spike_trains, g, T):\n",
    "    \"\"\"Simulate the LIF neuron for T seconds.\n",
    "    exc_spike_trains – list of numpy arrays with spike times for each excitatory synapse.\n",
    "    Returns (postsynaptic spike times, final weights list).\"\"\"\n",
    "    pass\n",
    "\n",
    "\n",
    "# -- run the experiment --\n",
    "g = np.full(N_exc, 0.1 * g_max) # small initial weights\n",
    "g_history = [g.copy()] # collect weights\n",
    "post_spike_history = [] # collect output times\n",
    "\n",
    "pass"
   ]
  },
  {
   "cell_type": "markdown",
   "id": "38a88b27-2dd5-4fe1-afb4-945013af6c1c",
   "metadata": {},
   "source": [
    "## Task 2:\n",
    "We are now going to implement the simulation experiment over different input rates.\n",
    "\n",
    "1. Draw Poisson spikes (feel free to plot to check)\n",
    "2. Update your simulation to include inhibitionas well as excitation. The simulation should start with all weights set to g_max.\n",
    "3. Run your simulation for 1s and report the final STDP adapted weights. "
   ]
  },
  {
   "cell_type": "code",
   "execution_count": null,
   "id": "56a01544",
   "metadata": {},
   "outputs": [],
   "source": [
    "g_max    = 0.15      # max excitatory weight (dimensionless w.r.t. leak conductance)\n",
    "g_in     = 0.5        # fixed inhibitory weight per spike\n",
    "\n",
    "\n",
    "# Network size\n",
    "N_exc  = 250          # number of excitatory synapses (reduced for speed)\n",
    "N_inh  = 75           # number of inhibitory synapses\n"
   ]
  },
  {
   "cell_type": "code",
   "execution_count": null,
   "id": "90daa6d9",
   "metadata": {},
   "outputs": [],
   "source": [
    "def poisson_spike_times(rate, T, rng=rng):\n",
    "    pass\n",
    "\n",
    "def run_sim(exc_spike_trains, inh_spike_trains, T, g_multiple = 1.0):\n",
    "    \"\"\"Simulate the LIF neuron for T seconds.\n",
    "    exc_spike_trains – list of numpy arrays with spike times for each excitatory synapse.\n",
    "    inh_spike_trains – list of numpy arrays with spike times for each excitatory synapse..\n",
    "    Returns (postsynaptic spike times, final weights list).\"\"\"\n",
    "    pass"
   ]
  },
  {
   "cell_type": "code",
   "execution_count": null,
   "id": "ef30c56e",
   "metadata": {},
   "outputs": [],
   "source": [
    "# Parameters of this expeirment.\n",
    "T_sim   = 200.0     # seconds per experiment (increase for better convergence)\n",
    "rates   = [10, 20, 40]  # Hz\n",
    "inh_rate = 10      # Hz per inhibitory synapse\n",
    "\n",
    "pass"
   ]
  },
  {
   "cell_type": "markdown",
   "id": "0e4a2353",
   "metadata": {},
   "source": [
    "## Task 3: Rate coding\n",
    "\n",
    "We will now check what happens if the rate of different inpout neurons is informative. Your first 50 input neurons are going to fire at 40Hz (Poisson), whereas remaining 200 input neurons are only going to fire at 5hz (Poisson). \n",
    "\n",
    "1. What is your expectation?\n",
    "2. Run the experiment for 1s, report the results.\n",
    "3. Check your expectation / intuition.\n"
   ]
  },
  {
   "cell_type": "code",
   "execution_count": null,
   "id": "bfbaa781",
   "metadata": {},
   "outputs": [],
   "source": [
    "# --- Rate‑code experiment ---\n",
    "T_sim      = 1000.0\n",
    "high_rate  = 40   # Hz\n",
    "low_rate   = 5    # Hz\n",
    "n_high     = 50\n",
    "n_low      = N_exc - n_high\n",
    "\n",
    "pass"
   ]
  }
 ],
 "metadata": {
  "kernelspec": {
   "display_name": ".venv",
   "language": "python",
   "name": "python3"
  },
  "language_info": {
   "codemirror_mode": {
    "name": "ipython",
    "version": 3
   },
   "file_extension": ".py",
   "mimetype": "text/x-python",
   "name": "python",
   "nbconvert_exporter": "python",
   "pygments_lexer": "ipython3",
   "version": "3.12.9"
  }
 },
 "nbformat": 4,
 "nbformat_minor": 5
}
